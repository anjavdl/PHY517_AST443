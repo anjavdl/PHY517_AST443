{
 "cells": [
  {
   "cell_type": "markdown",
   "id": "professional-ottawa",
   "metadata": {},
   "source": [
    "# Python Tutorial 1"
   ]
  },
  {
   "cell_type": "markdown",
   "id": "residential-chance",
   "metadata": {},
   "source": [
    "### What is python?\n",
    " \n",
    "  Python is an interpreted, object oriented, high-level programming language. An interpreted programming language is different from a compiled language in a number of ways, but in practice it means that you need to define all of the classes and functions at the top of the code, before you use them. In compiled languages some things can appear out of order, because the compiler reads through the whole source code before making the compiled program. Interpreted languages are read line by line by the interpreter, so things cannot be out of order in the code."
   ]
  },
  {
   "cell_type": "markdown",
   "id": "attempted-restriction",
   "metadata": {},
   "source": [
    "### Running python\n",
    "\n",
    "There are a number of ways of running python, see [the python wiki page](https://github.com/anjavdl/PHY517_AST443/wiki/Python) for a (probably incomplete) list.  Here, we will be running python in a jupyter notebook."
   ]
  },
  {
   "cell_type": "markdown",
   "id": "trying-gates",
   "metadata": {},
   "source": [
    "### How to use this notebook\n",
    "\n",
    "If you are running jupyter on your laptop with a python3 kernel, you can simply load the notebook and \"run\" each cell.  To \"run\" a box, you can hit \"enter\", or \"shift+enter\", hit the \"run\" button in the menubar, or select one of the unr options in the \"Cell\" menu.\n",
    "\n",
    "Similarly if you are running python through google colab.\n",
    "\n",
    "If you are working from the command line, you can paste each cell and then hit \"enter\".  For plots, you will need to add \"plt.show()\" at the end of a cell.  See the [python primer](https://github.com/anjavdl/PHY517_AST443/blob/master/documents/python_primer.pdf) for more instructions on running python on the shell, and as a script.\n",
    "\n",
    "Note:  python3 is installed on all computers in the lab, and you can call it with the command \"python3\".  However, jupyter currently only sees the python2.7 kernel on the lab computers because of security issues.  Thus, on the lab computers, you can either use python3 on the command line (as script), or jupyter with python2.7 ."
   ]
  },
  {
   "cell_type": "code",
   "execution_count": 1,
   "id": "flying-wound",
   "metadata": {},
   "outputs": [
    {
     "name": "stdout",
     "output_type": "stream",
     "text": [
      "this is how you print strings to the terminal\n",
      "5\n",
      "6\n",
      "8\n"
     ]
    }
   ],
   "source": [
    "### Printing output\n",
    "# strings\n",
    "print(\"this is how you print strings to the terminal\")\n",
    "\n",
    "# variables, and results from operations\n",
    "a=2\n",
    "b=3\n",
    "# note that this does not print anything in a notebook\n",
    "a\n",
    "print(a+b)\n",
    "print(a*b)\n",
    "print(a**b)"
   ]
  },
  {
   "cell_type": "markdown",
   "id": "unique-locking",
   "metadata": {},
   "source": [
    "### Modules and functions\n",
    " \n",
    "The python interpreter knows a few commands on its own, such as arithmetic operations, the **print** command for printing strings to the terminal, if-then statements, for and while loops, and various other basic programming operations. However, often you need more sophisticated tools. There are two ways to get python to use these tools: import them as modules, or define them yourself in the script.\n",
    "\n",
    "Modules are like prewritten scripts, containing functions, classes and methods. In order to get the python interpreter to use these, you need to import the module at the beginning of your script. For instance, if you want to use the exponential function, you need to use the **math** module:"
   ]
  },
  {
   "cell_type": "code",
   "execution_count": 2,
   "id": "attempted-jones",
   "metadata": {},
   "outputs": [
    {
     "name": "stdout",
     "output_type": "stream",
     "text": [
      "e= 2.718281828459045\n"
     ]
    }
   ],
   "source": [
    "import math\n",
    "\n",
    "print(\"e=\", math.exp(1))"
   ]
  },
  {
   "cell_type": "code",
   "execution_count": 3,
   "id": "liable-credits",
   "metadata": {},
   "outputs": [
    {
     "name": "stdout",
     "output_type": "stream",
     "text": [
      "e= 2.718281828459045\n"
     ]
    }
   ],
   "source": [
    "# Notice, if you want to use a function from a module, \n",
    "# you need to type the name of the module, a peroid, \n",
    "# and then the name of the function. You can also give \n",
    "# the module a different name:\n",
    "\n",
    "import math as m\n",
    "print(\"e=\", m.exp(1))"
   ]
  },
  {
   "cell_type": "code",
   "execution_count": 4,
   "id": "municipal-bottle",
   "metadata": {},
   "outputs": [
    {
     "name": "stdout",
     "output_type": "stream",
     "text": [
      "e= 2.718281828459045\n"
     ]
    }
   ],
   "source": [
    "# If you only want one specific function from a module, \n",
    "# you can import just that function. In this case, you \n",
    "# do not need to include the name of the module when you \n",
    "# use the function:\n",
    "\n",
    "from math import exp\n",
    "print(\"e=\", exp(1))"
   ]
  },
  {
   "cell_type": "markdown",
   "id": "dutch-liverpool",
   "metadata": {},
   "source": [
    "Note that in a given notebook, shell session or script, you only need to import a module once, so the above is not optimal."
   ]
  },
  {
   "cell_type": "markdown",
   "id": "hourly-mortgage",
   "metadata": {},
   "source": [
    "### Defining functions"
   ]
  },
  {
   "cell_type": "code",
   "execution_count": 5,
   "id": "immediate-billion",
   "metadata": {},
   "outputs": [
    {
     "name": "stdout",
     "output_type": "stream",
     "text": [
      "e is approximately 2.7166666666666663\n"
     ]
    }
   ],
   "source": [
    "# You can also define your own functions:\n",
    "\n",
    "def taylor_exp(x):\n",
    "  y = 1 + x + (x**2)/2 +(x**3)/(2*3) + (x**4)/(2*3*4) + (x**5)/(2*3*4*5)\n",
    "  return y\n",
    " \n",
    "print(\"e is approximately\", taylor_exp(1.0))"
   ]
  },
  {
   "cell_type": "markdown",
   "id": "protecting-split",
   "metadata": {},
   "source": [
    "A important feature of the above example is the indentation. This is not just a stylistic choice, python uses indentation to delimit where sections of the code begin and end. After the **return y** command, the following code begins at the left margin again, whereas within the function the code is indented. Python knows that all of the indented code belongs to the function **taylor_exp**, and that the function ends once the code is no longer indented, at the print statement. Indentation has to be done in spaces, not in tabs!"
   ]
  },
  {
   "cell_type": "markdown",
   "id": "angry-reliance",
   "metadata": {},
   "source": [
    "### Loops"
   ]
  },
  {
   "cell_type": "code",
   "execution_count": 6,
   "id": "fifth-cleaners",
   "metadata": {},
   "outputs": [
    {
     "name": "stdout",
     "output_type": "stream",
     "text": [
      "2.0 1\n",
      "2.5 2\n",
      "2.6666666666666665 3\n",
      "2.708333333333333 4\n",
      "2.7166666666666663 5\n",
      "2.7180555555555554 6\n",
      "2.7182539682539684 7\n",
      "2.71827876984127 8\n",
      "2.7182815255731922 9\n",
      "e is approximately 2.7182815255731922\n"
     ]
    }
   ],
   "source": [
    "#Instead of typing out all of the terms in the Taylor series, \n",
    "# we can write a for loop that calculates the factorial in \n",
    "# the denominator and then the corresponding term in the series. \n",
    "# For example, to $9^{\\rm{th}}$ order:\n",
    "\n",
    "def taylor_exp_loop(x):\n",
    "\n",
    "  den = 1 \n",
    "  y = 1.0\n",
    "\n",
    "  for n in range(1,10):\n",
    "    den = den*n\n",
    "    y = y + 1.0*(x**n)/den\n",
    "    print(y, n)\n",
    "  return y\n",
    " \n",
    "print(\"e is approximately\", taylor_exp_loop(1))"
   ]
  },
  {
   "cell_type": "code",
   "execution_count": 7,
   "id": "numerical-ready",
   "metadata": {},
   "outputs": [
    {
     "name": "stdout",
     "output_type": "stream",
     "text": [
      "Converges when n =  17\n"
     ]
    }
   ],
   "source": [
    "# Using a while loop, we can check what order the Taylor \n",
    "# expansion converges to the math module value:\n",
    "\n",
    "def taylor_convergence_order(x):\n",
    "\n",
    "  den = 1 \n",
    "  y = 1.0\n",
    "  n=0\n",
    "\n",
    "  while y - m.exp(1) < 0:\n",
    "    n += 1\n",
    "    den = den*(n)\n",
    "    y = y + 1.0*(x**n)/den\n",
    "  return n\n",
    " \n",
    "print(\"Converges when n = \", taylor_convergence_order(1))"
   ]
  },
  {
   "cell_type": "markdown",
   "id": "corporate-scenario",
   "metadata": {},
   "source": [
    "### Numpy and arrays"
   ]
  },
  {
   "cell_type": "code",
   "execution_count": 8,
   "id": "collaborative-soviet",
   "metadata": {},
   "outputs": [
    {
     "name": "stdout",
     "output_type": "stream",
     "text": [
      "<class 'numpy.ndarray'>\n",
      "(5,)\n",
      "1 2 3\n",
      "[5 2 3 4 5]\n"
     ]
    }
   ],
   "source": [
    "# Numpy is a module that allows you to create and manipulate \n",
    "# multi-dimensional arrays. These are some example operations:\n",
    "\n",
    "import numpy as np\n",
    "\n",
    "a = np.array([1, 2, 3, 4, 5])  # Create a 1D array\n",
    "print(type(a))           # Prints the type of array\n",
    "print(a.shape)           # Prints the dimensions\n",
    "print(a[0], a[1], a[2])  # Prints individual elements -- note that python is 0-indexed\n",
    "a[0] = 5                 # Change an element of the array\n",
    "print(a)                 # Prints the full array"
   ]
  },
  {
   "cell_type": "code",
   "execution_count": 9,
   "id": "traditional-testimony",
   "metadata": {},
   "outputs": [
    {
     "name": "stdout",
     "output_type": "stream",
     "text": [
      "(2, 3)\n",
      "[[1 2 3]\n",
      " [4 5 6]]\n"
     ]
    }
   ],
   "source": [
    "# 2D array\n",
    "\n",
    "b = np.array([[1,2,3],[4,5,6]])   # Create a 2D array\n",
    "print(b.shape) \n",
    "print(b)"
   ]
  },
  {
   "cell_type": "code",
   "execution_count": 10,
   "id": "formed-amsterdam",
   "metadata": {},
   "outputs": [
    {
     "name": "stdout",
     "output_type": "stream",
     "text": [
      "1 2 4\n",
      "[1 2 3]\n",
      "[3 6]\n",
      "[2 3]\n"
     ]
    }
   ],
   "source": [
    "# array indexing\n",
    "\n",
    "print(b[0, 0], b[0, 1], b[1, 0])  # Prints selected elements of the array\n",
    "print(b[0,:])            # prints the first row of the array\n",
    "print(b[:,2])            # prints the third column of the array\n",
    "print(a[1:3])          # prints a range of elements, starting with the second one (indexed 1),\n",
    "                       # until, but not including, the fourth one (indexed 3). i.e. until the third one."
   ]
  },
  {
   "cell_type": "code",
   "execution_count": 11,
   "id": "statewide-excellence",
   "metadata": {},
   "outputs": [
    {
     "name": "stdout",
     "output_type": "stream",
     "text": [
      "[[1. 2.]\n",
      " [3. 4.]]\n",
      "[[5. 6.]\n",
      " [7. 8.]]\n",
      "Sum:\n",
      "[[ 6.  8.]\n",
      " [10. 12.]]\n"
     ]
    }
   ],
   "source": [
    "# Numpy array pointwise arithmetic is very intuitive:\n",
    "\n",
    "x = np.array([[1,2],[3,4]], dtype=np.float64)\n",
    "y = np.array([[5,6],[7,8]], dtype=np.float64)\n",
    "print(x)\n",
    "print(y)\n",
    "\n",
    "# Elementwise sum:\n",
    "print(\"Sum:\")\n",
    "print(x + y)"
   ]
  },
  {
   "cell_type": "code",
   "execution_count": 12,
   "id": "operational-reasoning",
   "metadata": {},
   "outputs": [
    {
     "name": "stdout",
     "output_type": "stream",
     "text": [
      "[[-4. -4.]\n",
      " [-4. -4.]]\n"
     ]
    }
   ],
   "source": [
    "# Elementwise difference:\n",
    "print(x - y)"
   ]
  },
  {
   "cell_type": "code",
   "execution_count": 13,
   "id": "equal-gentleman",
   "metadata": {},
   "outputs": [
    {
     "name": "stdout",
     "output_type": "stream",
     "text": [
      "[[ 5. 12.]\n",
      " [21. 32.]]\n"
     ]
    }
   ],
   "source": [
    "# Elementwise product:\n",
    "print(x * y)"
   ]
  },
  {
   "cell_type": "code",
   "execution_count": 14,
   "id": "combined-chicago",
   "metadata": {},
   "outputs": [
    {
     "name": "stdout",
     "output_type": "stream",
     "text": [
      "[[0.2        0.33333333]\n",
      " [0.42857143 0.5       ]]\n"
     ]
    }
   ],
   "source": [
    "# Elementwise division:\n",
    "print(x / y)"
   ]
  },
  {
   "cell_type": "code",
   "execution_count": 15,
   "id": "settled-former",
   "metadata": {},
   "outputs": [
    {
     "name": "stdout",
     "output_type": "stream",
     "text": [
      "[[1.         1.41421356]\n",
      " [1.73205081 2.        ]]\n"
     ]
    }
   ],
   "source": [
    "# Elementwise square root:\n",
    "print(np.sqrt(x))"
   ]
  },
  {
   "cell_type": "markdown",
   "id": "creative-intensity",
   "metadata": {},
   "source": [
    "### Reading and writing data from/to text files"
   ]
  },
  {
   "cell_type": "code",
   "execution_count": 16,
   "id": "retired-dance",
   "metadata": {},
   "outputs": [],
   "source": [
    "# np.loadtxt is pretty versatile for reading in\n",
    "# data in text files.  each row needs to have the\n",
    "# same number of elements.\n",
    "# note that by default, rows beginning with \"#\"\n",
    "# are ignored\n",
    "# full documentation at\n",
    "# https://numpy.org/doc/stable/reference/generated/numpy.loadtxt.html\n",
    "data = np.loadtxt(\"test_data.txt\")"
   ]
  },
  {
   "cell_type": "code",
   "execution_count": 17,
   "id": "cheap-pasta",
   "metadata": {},
   "outputs": [
    {
     "name": "stdout",
     "output_type": "stream",
     "text": [
      "(5, 3)\n"
     ]
    },
    {
     "data": {
      "text/plain": [
       "array([[ 1. ,  1. ,  2. ],\n",
       "       [ 1.5,  2. ,  4. ],\n",
       "       [ 2. ,  3. ,  6. ],\n",
       "       [ 2.5,  4. ,  8. ],\n",
       "       [ 3. ,  5. , 10. ]])"
      ]
     },
     "execution_count": 17,
     "metadata": {},
     "output_type": "execute_result"
    }
   ],
   "source": [
    "# this gives you a two-dimensional array\n",
    "print(data.shape)\n",
    "data"
   ]
  },
  {
   "cell_type": "code",
   "execution_count": 18,
   "id": "played-customer",
   "metadata": {},
   "outputs": [
    {
     "data": {
      "text/plain": [
       "2.5"
      ]
     },
     "execution_count": 18,
     "metadata": {},
     "output_type": "execute_result"
    }
   ],
   "source": [
    "# which you can index as usual:\n",
    "data[3,0]"
   ]
  },
  {
   "cell_type": "code",
   "execution_count": 19,
   "id": "alien-biotechnology",
   "metadata": {},
   "outputs": [],
   "source": [
    "# knowing what each column is, you can assign 1d arrays (lists)\n",
    "# ... but keep in mind that these are now independent of each other\n",
    "time = data[:,0]"
   ]
  },
  {
   "cell_type": "code",
   "execution_count": 20,
   "id": "renewable-aaron",
   "metadata": {},
   "outputs": [],
   "source": [
    "# you CAN assign column names with loadtxt:\n",
    "\n",
    "data2 = np.loadtxt(\"test_data.txt\",dtype={'names':(\"time\",\"x1\",\"x2\"),'formats': ('f', 'f', 'f')})"
   ]
  },
  {
   "cell_type": "code",
   "execution_count": 21,
   "id": "nervous-director",
   "metadata": {},
   "outputs": [
    {
     "name": "stdout",
     "output_type": "stream",
     "text": [
      "(5,)\n"
     ]
    },
    {
     "data": {
      "text/plain": [
       "array([(1. , 1.,  2.), (1.5, 2.,  4.), (2. , 3.,  6.), (2.5, 4.,  8.),\n",
       "       (3. , 5., 10.)],\n",
       "      dtype=[('time', '<f4'), ('x1', '<f4'), ('x2', '<f4')])"
      ]
     },
     "execution_count": 21,
     "metadata": {},
     "output_type": "execute_result"
    }
   ],
   "source": [
    "# which looks a little bit different\n",
    "print(data2.shape)\n",
    "data2"
   ]
  },
  {
   "cell_type": "code",
   "execution_count": 22,
   "id": "parental-claim",
   "metadata": {},
   "outputs": [
    {
     "name": "stdout",
     "output_type": "stream",
     "text": [
      "2.5\n",
      "2.5\n"
     ]
    }
   ],
   "source": [
    "# you can index this array either as usual:\n",
    "print(data[3,0])\n",
    "# or by column name (note that the order is now reversed):\n",
    "print(data2['time'][3])"
   ]
  },
  {
   "cell_type": "code",
   "execution_count": 23,
   "id": "helpful-empire",
   "metadata": {},
   "outputs": [],
   "source": [
    "# saving the data to a text file:\n",
    "np.savetxt('out.txt', data, fmt='%.1f')\n",
    "# note that the \"fmt\" specifies the format of the data,\n",
    "# including the number of significant digits"
   ]
  },
  {
   "cell_type": "markdown",
   "id": "outer-dining",
   "metadata": {},
   "source": [
    "### Plotting data"
   ]
  },
  {
   "cell_type": "code",
   "execution_count": 24,
   "id": "express-medicare",
   "metadata": {},
   "outputs": [],
   "source": [
    "# in the following we will first generate a toy dataset,\n",
    "# which we will then plot, and fit.\n",
    "\n",
    "# first, generate data.  we randomly sample 20 points between 0 and 100:\n",
    "xdata = 100 * np.random.random(20)\n",
    "\n",
    "# and then we assign y-values based on a linear\n",
    "# relation with slope b_true=0.5 and intercept a_true=25\n",
    "a_true = 25\n",
    "b_true = 0.5\n",
    "ydata = a_true + b_true * xdata\n",
    "\n",
    "# add Gaussian scatter to points\n",
    "# with a std. dev. of 10\n",
    "xdata = np.random.normal(xdata, 10)\n",
    "ydata = np.random.normal(ydata, 10)\n",
    "\n",
    "# make array of measurement error\n",
    "sigdata = 0.*xdata + 10."
   ]
  },
  {
   "cell_type": "code",
   "execution_count": 25,
   "id": "distinguished-stomach",
   "metadata": {},
   "outputs": [
    {
     "data": {
      "text/plain": [
       "Text(0, 0.5, 'y')"
      ]
     },
     "execution_count": 25,
     "metadata": {},
     "output_type": "execute_result"
    },
    {
     "data": {
      "image/png": "[encoded data removed]",
      "text/plain": [
       "<Figure size 432x288 with 1 Axes>"
      ]
     },
     "metadata": {
      "needs_background": "light"
     },
     "output_type": "display_data"
    }
   ],
   "source": [
    "# for plotting we use the matplotlib module:\n",
    "\n",
    "import matplotlib\n",
    "import matplotlib.pyplot as plt\n",
    "# specific to this notebook set-up\n",
    "matplotlib.use('TkAgg')    \n",
    "%matplotlib inline\n",
    "\n",
    "# plot the data!\n",
    "plt.errorbar(xdata, ydata, yerr=sigdata,fmt='o',)\n",
    "plt.xlabel('x')\n",
    "plt.ylabel('y')\n",
    "\n",
    "# Note: if you are not in a notebook, you have to add\n",
    "# plt.show()\n",
    "# at the end of the plotting commands"
   ]
  },
  {
   "cell_type": "markdown",
   "id": "indie-documentary",
   "metadata": {},
   "source": [
    "### Fitting data"
   ]
  },
  {
   "cell_type": "code",
   "execution_count": 26,
   "id": "southwest-harvest",
   "metadata": {},
   "outputs": [],
   "source": [
    "# there are plenty of fitting routines in python (specifically in scipy);\n",
    "# we will use \"curve_fit\" here\n",
    "from scipy.optimize import curve_fit\n",
    "\n",
    "# define the function to be fit - here, a straight line\n",
    "def func(x,a,b):\n",
    "    return a+b*x\n",
    "\n",
    "# performs the fit\n",
    "best_vals, covar = curve_fit(func, xdata, ydata, sigma=sigdata)"
   ]
  },
  {
   "cell_type": "code",
   "execution_count": 27,
   "id": "loose-sample",
   "metadata": {},
   "outputs": [
    {
     "name": "stdout",
     "output_type": "stream",
     "text": [
      "[22.28092409  0.51088842]\n",
      "[[ 2.80319195e+01 -4.79877068e-01]\n",
      " [-4.79877068e-01  1.26863856e-02]]\n"
     ]
    }
   ],
   "source": [
    "# \"best_vals\" contains the best-fit parameters; \n",
    "# \"covar\" the covariance matrix, i.e. the uncertainty on the\n",
    "# parameters\n",
    "print(best_vals)\n",
    "print(covar)"
   ]
  },
  {
   "cell_type": "code",
   "execution_count": 28,
   "id": "revolutionary-thanks",
   "metadata": {},
   "outputs": [
    {
     "name": "stdout",
     "output_type": "stream",
     "text": [
      "a = 22 +/- 28\n",
      "b = 0.511 +/- 0.013\n"
     ]
    }
   ],
   "source": [
    "# thus, the best-fit intercept is:\n",
    "a = best_vals[0]\n",
    "print(f'a = {a:.0f} +/- {covar[0,0]:.0f}')\n",
    "# and the best-fit slope is:\n",
    "b = best_vals[1]\n",
    "print(f'b = {b:.3f} +/- {covar[1,1]:.3f}')"
   ]
  },
  {
   "cell_type": "code",
   "execution_count": 29,
   "id": "hourly-basis",
   "metadata": {},
   "outputs": [
    {
     "data": {
      "text/plain": [
       "<matplotlib.legend.Legend at 0x11eaa7850>"
      ]
     },
     "execution_count": 29,
     "metadata": {},
     "output_type": "execute_result"
    },
    {
     "data": {
      "image/png": "[encoded data removed]",
      "text/plain": [
       "<Figure size 432x288 with 1 Axes>"
      ]
     },
     "metadata": {
      "needs_background": "light"
     },
     "output_type": "display_data"
    }
   ],
   "source": [
    "# now, let's plot the data along with the best fit:\n",
    "\n",
    "# actual data:\n",
    "plt.errorbar(xdata, ydata, yerr=sigdata,fmt='o', label=\"data\")\n",
    "\n",
    "# generate \"data\" that shows best-fit line:\n",
    "x = np.linspace(0, 100, num=100)\n",
    "yfit = func(x,a,b)\n",
    "plt.plot(x,yfit,label=\"fit\")\n",
    "# NOTE:  we are not plotting the confidence interval of the\n",
    "# full fit here, which gets quite complicated\n",
    "\n",
    "# also show true relation:\n",
    "ytrue = func(x,a_true,b_true)\n",
    "plt.plot(x,ytrue,label=\"truth\")\n",
    "\n",
    "plt.xlabel('x')\n",
    "plt.ylabel('y')\n",
    "\n",
    "plt.legend()"
   ]
  },
  {
   "cell_type": "markdown",
   "id": "little-remedy",
   "metadata": {},
   "source": [
    "This notebook is partly based on the [Python Primer](https://github.com/anjavdl/PHY517_AST443/blob/master/documents/python_primer.pdf) written by Drew Jamieson, and the [python tutorial](https://github.com/anjavdl/PHY517_AST443/blob/master/tutorials/python_tutorial/Astro_Lab_Python_Tutorial.ipynb) written by Sydney Andrews."
   ]
  }
 ],
 "metadata": {
  "kernelspec": {
   "display_name": "Python 3",
   "language": "python",
   "name": "python3"
  },
  "language_info": {
   "codemirror_mode": {
    "name": "ipython",
    "version": 3
   },
   "file_extension": ".py",
   "mimetype": "text/x-python",
   "name": "python",
   "nbconvert_exporter": "python",
   "pygments_lexer": "ipython3",
   "version": "3.7.9"
  }
 },
 "nbformat": 4,
 "nbformat_minor": 5
}
